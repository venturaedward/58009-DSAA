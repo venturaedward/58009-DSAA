{
  "nbformat": 4,
  "nbformat_minor": 0,
  "metadata": {
    "colab": {
      "provenance": [],
      "authorship_tag": "ABX9TyN0L42nvKoHWtFnIAbk5uo3",
      "include_colab_link": true
    },
    "kernelspec": {
      "name": "python3",
      "display_name": "Python 3"
    },
    "language_info": {
      "name": "python"
    }
  },
  "cells": [
    {
      "cell_type": "markdown",
      "metadata": {
        "id": "view-in-github",
        "colab_type": "text"
      },
      "source": [
        "<a href=\"https://colab.research.google.com/github/venturaedward/58009-DSAA/blob/main/Activity.ipynb\" target=\"_parent\"><img src=\"https://colab.research.google.com/assets/colab-badge.svg\" alt=\"Open In Colab\"/></a>"
      ]
    },
    {
      "cell_type": "markdown",
      "source": [
        "Write a Python program to create an array of 10 integers and display the array items. Access individual elements through indexes and compute for the sum."
      ],
      "metadata": {
        "id": "SYS8m-oOVefA"
      }
    },
    {
      "cell_type": "code",
      "source": [
        "Sum = 0\n",
        "\n",
        "print(\"Please Enter 10 Numbers\\n\")\n",
        "i = 1\n",
        "while(i <= 10):\n",
        "    num = int(input(\"Number %d = \" %i))\n",
        "    Sum = Sum + num\n",
        "    i = i + 1\n",
        "\n",
        "\n",
        "print(\"The Sum of 10 Numbers     = \", Sum)\n"
      ],
      "metadata": {
        "colab": {
          "base_uri": "https://localhost:8080/"
        },
        "id": "luk9eZwWViKo",
        "outputId": "ac0493e0-58da-4c10-afa7-0107720f7e7b"
      },
      "execution_count": null,
      "outputs": [
        {
          "name": "stdout",
          "output_type": "stream",
          "text": [
            "Please Enter 10 Numbers\n",
            "\n",
            "Number 1 = 2\n",
            "Number 2 = 3\n",
            "Number 3 = 4\n"
          ]
        }
      ]
    },
    {
      "cell_type": "markdown",
      "source": [
        "Write a Python program to append a new item to the end of the array. Original array: numbers = [1, 2, 3, 4, 5, 6, 7, 8, 9, 10]"
      ],
      "metadata": {
        "id": "of_ssSsMVnZ3"
      }
    },
    {
      "cell_type": "code",
      "source": [
        "num = [\"1\", \"2\", \"3\", \"4\", \"5\", \"6\", \"7\", \"8\", \"9\", \"10\"]\n",
        "num.append(\"55\")\n",
        "print(num)"
      ],
      "metadata": {
        "id": "y2nEMzoFVtYo"
      },
      "execution_count": null,
      "outputs": []
    },
    {
      "cell_type": "markdown",
      "source": [
        "Write a Python program to insert a new item before the second element in an existing array. Original array: numbers = [1, 2, 3, 4, 5, 6, 7, 8, 9, 10]"
      ],
      "metadata": {
        "id": "gtjQLgwSVwHo"
      }
    },
    {
      "cell_type": "code",
      "source": [
        "num = [\"1\", \"2\", \"3\", \"4\", \"5\", \"6\", \"7\", \"8\", \"9\", \"10\"]\n",
        "num.insert(2,51)\n",
        "print(num)"
      ],
      "metadata": {
        "id": "SonSfsC1V1co"
      },
      "execution_count": null,
      "outputs": []
    },
    {
      "cell_type": "markdown",
      "source": [
        "Write a Python program to reverse the order of the items in the array.Original array: numbers = [5, 4, 3, 2, 1]"
      ],
      "metadata": {
        "id": "afdXb1ZwV3u-"
      }
    },
    {
      "cell_type": "code",
      "source": [
        "num = [\"5\", \"4\", \"3\", \"2\", \"1\"]\n",
        "num.reverse()\n",
        "print(num)"
      ],
      "metadata": {
        "id": "91siWGtrV5rU"
      },
      "execution_count": null,
      "outputs": []
    },
    {
      "cell_type": "markdown",
      "source": [
        "Write a Python program to get the length of the array. Original array: numbers = [5, 4, 3, 2, 1]"
      ],
      "metadata": {
        "id": "YPr_FYrLV7DU"
      }
    },
    {
      "cell_type": "code",
      "source": [
        "num = [\"5\", \"4\", \"3\", \"2\", \"1\"]\n",
        "x = len(num)\n",
        "print(x)"
      ],
      "metadata": {
        "id": "2IxnVfRQV809"
      },
      "execution_count": null,
      "outputs": []
    }
  ]
}