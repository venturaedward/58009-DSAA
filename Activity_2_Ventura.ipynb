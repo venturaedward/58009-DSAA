{
  "nbformat": 4,
  "nbformat_minor": 0,
  "metadata": {
    "colab": {
      "provenance": [],
      "authorship_tag": "ABX9TyOTnB6ldIGd2MzRI4aIHMfQ",
      "include_colab_link": true
    },
    "kernelspec": {
      "name": "python3",
      "display_name": "Python 3"
    },
    "language_info": {
      "name": "python"
    }
  },
  "cells": [
    {
      "cell_type": "markdown",
      "metadata": {
        "id": "view-in-github",
        "colab_type": "text"
      },
      "source": [
        "<a href=\"https://colab.research.google.com/github/venturaedward/58009-DSAA/blob/main/Activity_2_Ventura.ipynb\" target=\"_parent\"><img src=\"https://colab.research.google.com/assets/colab-badge.svg\" alt=\"Open In Colab\"/></a>"
      ]
    },
    {
      "cell_type": "code",
      "execution_count": 18,
      "metadata": {
        "colab": {
          "base_uri": "https://localhost:8080/"
        },
        "id": "MBzPZeixeVPZ",
        "outputId": "34be6e0f-b89b-47f9-f1ae-ce057e84e283"
      },
      "outputs": [
        {
          "output_type": "stream",
          "name": "stdout",
          "text": [
            "\n",
            "Singly Linked List Prime Numbers:\n",
            "2 3 5 7 11 13 17 19 \n",
            "The Head: 2\n",
            "The Tail: 19\n"
          ]
        }
      ],
      "source": [
        "class Node:\n",
        "    def __init__(self, data):\n",
        "        self.data = data\n",
        "        self.next = None\n",
        "\n",
        "class LinkedList:\n",
        "    def __init__(self):\n",
        "        self.head = None\n",
        "        self.tail = None\n",
        "\n",
        "    def append(self, data):\n",
        "        new_node = Node(data)\n",
        "        if not self.head:\n",
        "            self.head = new_node\n",
        "            self.tail = new_node\n",
        "        else:\n",
        "            self.tail.next = new_node\n",
        "            self.tail = new_node\n",
        "\n",
        "def is_prime(num):\n",
        "    if num <= 1:\n",
        "        return False\n",
        "    if num <= 3:\n",
        "        return True\n",
        "    if num % 2 == 0 or num % 3 == 0:\n",
        "        return False\n",
        "    i = 5\n",
        "    while i * i <= num:\n",
        "        if num % i == 0 or num % (i + 2) == 0:\n",
        "            return False\n",
        "        i += 6\n",
        "    return True\n",
        "\n",
        "# Create a linked list of prime numbers less than 20\n",
        "prime_list = LinkedList()\n",
        "for num in range(2, 20):\n",
        "    if is_prime(num):\n",
        "        prime_list.append(num)\n",
        "\n",
        "\n",
        "current = prime_list.head\n",
        "print(\"\\nSingly Linked List Prime Numbers:\")\n",
        "while current:\n",
        "    print(current.data, end=\" \")\n",
        "    current = current.next\n",
        "print(\"\\nThe Head:\", prime_list.head.data)\n",
        "print(\"The Tail:\", prime_list.tail.data)"
      ]
    },
    {
      "cell_type": "code",
      "source": [],
      "metadata": {
        "id": "gLSdxjU5lACs"
      },
      "execution_count": null,
      "outputs": []
    }
  ]
}