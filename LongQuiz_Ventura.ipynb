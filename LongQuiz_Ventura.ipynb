{
  "nbformat": 4,
  "nbformat_minor": 0,
  "metadata": {
    "colab": {
      "provenance": [],
      "authorship_tag": "ABX9TyO88/QE+nwgYhJR2fePNVTe",
      "include_colab_link": true
    },
    "kernelspec": {
      "name": "python3",
      "display_name": "Python 3"
    },
    "language_info": {
      "name": "python"
    }
  },
  "cells": [
    {
      "cell_type": "markdown",
      "metadata": {
        "id": "view-in-github",
        "colab_type": "text"
      },
      "source": [
        "<a href=\"https://colab.research.google.com/github/venturaedward/58009-DSAA/blob/main/LongQuiz_Ventura.ipynb\" target=\"_parent\"><img src=\"https://colab.research.google.com/assets/colab-badge.svg\" alt=\"Open In Colab\"/></a>"
      ]
    },
    {
      "cell_type": "code",
      "execution_count": 43,
      "metadata": {
        "id": "Cq5XZPtWB6WZ",
        "colab": {
          "base_uri": "https://localhost:8080/"
        },
        "outputId": "73627be2-ebad-4a45-ead3-c228d1c7079f"
      },
      "outputs": [
        {
          "output_type": "stream",
          "name": "stdout",
          "text": [
            "Write your name here: John Edward Ventura\n",
            "Your name with all characters appended in reverse order is: John Edward Ventura arutneV drawdE nhoJ\n"
          ]
        }
      ],
      "source": [
        "#1.\n",
        "name = input(\"Write your name here: \")\n",
        "\n",
        "reverse_name = \"John Edward Ventura \"\n",
        "\n",
        "\n",
        "for char in reversed(name):\n",
        "    reverse_name += char\n",
        "\n",
        "print(f\"Your name with all characters appended in reverse order is: {reverse_name}\")"
      ]
    },
    {
      "cell_type": "code",
      "source": [
        "#2\n",
        "def The_prime(n):\n",
        "    if n <= 1:\n",
        "        return False\n",
        "    if n <= 3:\n",
        "        return True\n",
        "    if n % 2 == 0 or n % 3 == 0:\n",
        "        return False\n",
        "    i = 5\n",
        "    while i * i <= n:\n",
        "        if n % i == 0 or n % (i + 2) == 0:\n",
        "            return False\n",
        "        i += 6\n",
        "    return True\n",
        "\n",
        "for num in range(1, 11):\n",
        "    if The_prime(num):\n",
        "        print(f\"{num} The number of ({num}) is prime.\")\n",
        "    else:\n",
        "        print(f\"{num} The number of ({num}) is composite.\")"
      ],
      "metadata": {
        "id": "y55woaWtGY0v",
        "colab": {
          "base_uri": "https://localhost:8080/"
        },
        "outputId": "32328562-b60c-41cc-b02c-b28622b5165b"
      },
      "execution_count": 49,
      "outputs": [
        {
          "output_type": "stream",
          "name": "stdout",
          "text": [
            "1 The number of (1) is composite.\n",
            "2 The number of (2) is prime.\n",
            "3 The number of (3) is prime.\n",
            "4 The number of (4) is composite.\n",
            "5 The number of (5) is prime.\n",
            "6 The number of (6) is composite.\n",
            "7 The number of (7) is prime.\n",
            "8 The number of (8) is composite.\n",
            "9 The number of (9) is composite.\n",
            "10 The number of (10) is composite.\n"
          ]
        }
      ]
    }
  ]
}