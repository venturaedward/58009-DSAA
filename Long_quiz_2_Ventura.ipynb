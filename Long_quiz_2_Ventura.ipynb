{
  "nbformat": 4,
  "nbformat_minor": 0,
  "metadata": {
    "colab": {
      "provenance": [],
      "authorship_tag": "ABX9TyPBuljp++vNFkL0Qs29HDHl",
      "include_colab_link": true
    },
    "kernelspec": {
      "name": "python3",
      "display_name": "Python 3"
    },
    "language_info": {
      "name": "python"
    }
  },
  "cells": [
    {
      "cell_type": "markdown",
      "metadata": {
        "id": "view-in-github",
        "colab_type": "text"
      },
      "source": [
        "<a href=\"https://colab.research.google.com/github/venturaedward/58009-DSAA/blob/main/Long_quiz_2_Ventura.ipynb\" target=\"_parent\"><img src=\"https://colab.research.google.com/assets/colab-badge.svg\" alt=\"Open In Colab\"/></a>"
      ]
    },
    {
      "cell_type": "markdown",
      "source": [
        "Edges"
      ],
      "metadata": {
        "id": "rxLB4cSu2aYv"
      }
    },
    {
      "cell_type": "code",
      "execution_count": 5,
      "metadata": {
        "colab": {
          "base_uri": "https://localhost:8080/"
        },
        "id": "SLssGbGvxK_f",
        "outputId": "96d2be1c-02c0-49b9-e387-13d3d141d3d7"
      },
      "outputs": [
        {
          "output_type": "stream",
          "name": "stdout",
          "text": [
            "[{'E', 'I'}, {'E', 'J'}, {'E', 'K'}, {'E', 'M'}, {'F', 'J'}, {'I', 'F'}, {'K', 'F'}, {'F', 'P'}, {'H', 'J'}, {'K', 'H'}, {'I', 'H'}]\n"
          ]
        }
      ],
      "source": [
        "#Edges\n",
        "class graph:\n",
        "   def __init__(self,gdict=None):\n",
        "      if gdict is None:\n",
        "         gdict = {}\n",
        "      self.gdict = gdict\n",
        "\n",
        "   def edges(self):\n",
        "      return self.findedges()\n",
        "\n",
        "   def findedges(self):\n",
        "      nameofedge = []\n",
        "      for vrtx in self.gdict:\n",
        "         for nxtvrtx in self.gdict[vrtx]:\n",
        "            if {nxtvrtx, vrtx} not in nameofedge:\n",
        "               nameofedge.append({vrtx, nxtvrtx})\n",
        "      return nameofedge\n",
        "\n",
        "graph_elements = {\n",
        "    \"E\" : [\"I\",\"J\", \"K\", \"M\"],\n",
        "   \"F\" : [\"J\", \"I\", \"K\", \"P\"],\n",
        "   \"J\" : [\"H\", \"E\", \"F\"],\n",
        "   \"H\" : [\"J\", \"K\", \"I\"],\n",
        "   \"I\" : [\"H\", \"F\", \"E\"],\n",
        "   \"K\" : [\"H\", \"E\", \"F\"],\n",
        "   \"M\" : [\"E\"],\n",
        "   \"P\" : [\"F\"]\n",
        "}\n",
        "g = graph(graph_elements)\n",
        "print(g.edges())"
      ]
    },
    {
      "cell_type": "markdown",
      "source": [
        "Vertices"
      ],
      "metadata": {
        "id": "p1IV2DFg2eMG"
      }
    },
    {
      "cell_type": "code",
      "source": [
        "#Vertices\n",
        "class graph:\n",
        "   def __init__(self,gdict=None):\n",
        "      if gdict is None:\n",
        "         gdict = []\n",
        "      self.gdict = gdict\n",
        "\n",
        "   def graphVertices(self):\n",
        "      return list(self.gdict.keys())\n",
        "\n",
        "graph_elements = {\n",
        "   \"E\" : [\"I\",\"J\", \"K\", \"M\"],\n",
        "   \"F\" : [\"J\", \"I\", \"K\", \"P\"],\n",
        "   \"J\" : [\"H\", \"E\", \"F\"],\n",
        "   \"H\" : [\"J\", \"K\", \"I\"],\n",
        "   \"I\" : [\"H\", \"F\", \"E\"],\n",
        "   \"K\" : [\"H\", \"E\", \"F\"],\n",
        "   \"M\" : [\"E\"],\n",
        "   \"P\" : [\"F\"]\n",
        "}\n",
        "g = graph(graph_elements)\n",
        "print(g.graphVertices())"
      ],
      "metadata": {
        "colab": {
          "base_uri": "https://localhost:8080/"
        },
        "id": "pHzWP5CF0epo",
        "outputId": "164718d8-dbc0-4292-e937-309b1b71649e"
      },
      "execution_count": 7,
      "outputs": [
        {
          "output_type": "stream",
          "name": "stdout",
          "text": [
            "['E', 'F', 'J', 'H', 'I', 'K', 'M', 'P']\n"
          ]
        }
      ]
    }
  ]
}