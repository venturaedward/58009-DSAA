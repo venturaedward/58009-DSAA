{
  "nbformat": 4,
  "nbformat_minor": 0,
  "metadata": {
    "colab": {
      "provenance": [],
      "authorship_tag": "ABX9TyMP+QyTQvAaKoomre8wT1Jt",
      "include_colab_link": true
    },
    "kernelspec": {
      "name": "python3",
      "display_name": "Python 3"
    },
    "language_info": {
      "name": "python"
    }
  },
  "cells": [
    {
      "cell_type": "markdown",
      "metadata": {
        "id": "view-in-github",
        "colab_type": "text"
      },
      "source": [
        "<a href=\"https://colab.research.google.com/github/venturaedward/58009-DSAA/blob/main/MIDTERMEXAM.ipynb\" target=\"_parent\"><img src=\"https://colab.research.google.com/assets/colab-badge.svg\" alt=\"Open In Colab\"/></a>"
      ]
    },
    {
      "cell_type": "code",
      "execution_count": 7,
      "metadata": {
        "colab": {
          "base_uri": "https://localhost:8080/"
        },
        "id": "C5MaNhoWhbVX",
        "outputId": "ccd97a02-bc1f-4615-ce27-eac6c5f65b8f"
      },
      "outputs": [
        {
          "output_type": "stream",
          "name": "stdout",
          "text": [
            "[{'A', 'B'}, {'B', 'E'}, {'B', 'F'}, {'C', 'B'}, {'C', 'H'}, {'C', 'E'}, {'C', 'F'}, {'C', 'D'}, {'K', 'D'}, {'L', 'D'}, {'N', 'E'}, {'F', 'G'}, {'I', 'F'}, {'I', 'G'}, {'J', 'G'}, {'I', 'J'}, {'K', 'I'}, {'K', 'J'}, {'M', 'L'}, {'L', 'P'}, {'C', 'M'}, {'M', 'N'}, {'M', 'P'}, {'O', 'N'}, {'M', 'O'}, {'P', 'O'}]\n"
          ]
        }
      ],
      "source": [
        "class graph:\n",
        "   def __init__(self,gdict=None):\n",
        "      if gdict is None:\n",
        "         gdict = {}\n",
        "      self.gdict = gdict\n",
        "\n",
        "   def edges(self):\n",
        "      return self.findedges()\n",
        "\n",
        "   def findedges(self):\n",
        "      nameofedge = []\n",
        "      for vrtx in self.gdict:\n",
        "         for nxtvrtx in self.gdict[vrtx]:\n",
        "            if {nxtvrtx, vrtx} not in nameofedge:\n",
        "               nameofedge.append({vrtx, nxtvrtx})\n",
        "      return nameofedge\n",
        "\n",
        "graph_elements = {\n",
        "    \"A\" : [\"B\"],\n",
        "   \"B\" : [\"E\", \"F\", \"C\"],\n",
        "   \"C\" : [\"H\", \"E\", \"F\"],\n",
        "   \"D\" : [\"C\", \"K\", \"L\"],\n",
        "   \"E\" : [\"C\", \"B\", \"N\"],\n",
        "   \"F\" : [\"B\", \"C\", \"G\", \"I\"],\n",
        "   \"G\" : [\"F\", \"I\", \"J\"],\n",
        "   \"I\" : [\"G\", \"J\", \"K\"],\n",
        "   \"J\" : [\"G\", \"I\", \"K\"],\n",
        "   \"K\" : [\"D\", \"I\"],\n",
        "   \"L\" : [\"D\", \"M\", \"P\"],\n",
        "   \"M\" : [\"C\", \"N\", \"P\"],\n",
        "   \"N\" : [\"E\", \"M\", \"O\"],\n",
        "   \"O\" : [\"M\", \"N\", \"P\"],\n",
        "   \"P\" : [\"L\", \"M\"]\n",
        "}\n",
        "g = graph(graph_elements)\n",
        "print(g.edges())"
      ]
    },
    {
      "cell_type": "code",
      "source": [
        "class graph:\n",
        "   def __init__(self,gdict=None):\n",
        "      if gdict is None:\n",
        "         gdict = []\n",
        "      self.gdict = gdict\n",
        "\n",
        "   def graphVertices(self):\n",
        "      return list(self.gdict.keys())\n",
        "\n",
        "graph_elements = {\n",
        "    \"A\" : [\"B\"],\n",
        "   \"B\" : [\"E\", \"F\", \"C\"],\n",
        "   \"C\" : [\"H\", \"E\", \"F\"],\n",
        "   \"D\" : [\"C\", \"K\", \"L\"],\n",
        "   \"E\" : [\"C\", \"B\", \"N\"],\n",
        "   \"F\" : [\"B\", \"C\", \"G\", \"I\"],\n",
        "   \"G\" : [\"F\", \"I\", \"J\"],\n",
        "   \"I\" : [\"G\", \"J\", \"K\"],\n",
        "   \"J\" : [\"G\", \"I\", \"K\"],\n",
        "   \"K\" : [\"D\", \"I\"],\n",
        "   \"L\" : [\"D\", \"M\", \"P\"],\n",
        "   \"M\" : [\"C\", \"N\", \"P\"],\n",
        "   \"N\" : [\"E\", \"M\", \"O\"],\n",
        "   \"O\" : [\"M\", \"N\", \"P\"],\n",
        "   \"P\" : [\"L\", \"M\"]\n",
        "}\n",
        "g = graph(graph_elements)\n",
        "print(g.graphVertices())"
      ],
      "metadata": {
        "colab": {
          "base_uri": "https://localhost:8080/"
        },
        "id": "7xmmKCARh4sz",
        "outputId": "f6be1467-1531-480f-f317-1189fba3c240"
      },
      "execution_count": 8,
      "outputs": [
        {
          "output_type": "stream",
          "name": "stdout",
          "text": [
            "['A', 'B', 'C', 'D', 'E', 'F', 'G', 'I', 'J', 'K', 'L', 'M', 'N', 'O', 'P']\n"
          ]
        }
      ]
    }
  ]
}