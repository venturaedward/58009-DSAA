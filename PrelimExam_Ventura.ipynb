{
  "nbformat": 4,
  "nbformat_minor": 0,
  "metadata": {
    "colab": {
      "provenance": [],
      "authorship_tag": "ABX9TyN3bgD6WPtgQCUNzKMIBlp9",
      "include_colab_link": true
    },
    "kernelspec": {
      "name": "python3",
      "display_name": "Python 3"
    },
    "language_info": {
      "name": "python"
    }
  },
  "cells": [
    {
      "cell_type": "markdown",
      "metadata": {
        "id": "view-in-github",
        "colab_type": "text"
      },
      "source": [
        "<a href=\"https://colab.research.google.com/github/venturaedward/58009-DSAA/blob/main/PrelimExam_Ventura.ipynb\" target=\"_parent\"><img src=\"https://colab.research.google.com/assets/colab-badge.svg\" alt=\"Open In Colab\"/></a>"
      ]
    },
    {
      "cell_type": "code",
      "execution_count": 20,
      "metadata": {
        "colab": {
          "base_uri": "https://localhost:8080/"
        },
        "id": "XT8iJ0jlMK5c",
        "outputId": "651ef25d-b282-4073-c85f-2768b4e0900e"
      },
      "outputs": [
        {
          "output_type": "stream",
          "name": "stdout",
          "text": [
            "Added Test Scores:\n",
            "(26, 49, 98, 87, 62, 75, 26, 49, 98, 87, 62, 75)\n",
            "Ascended Test Scores:\n",
            "26\n",
            "49\n",
            "62\n",
            "75\n",
            "87\n",
            "98\n"
          ]
        }
      ],
      "source": [
        "\n",
        "test_scores = (26, 49, 98, 87, 62, 75)\n",
        "\n",
        "added_scores = (26, 49, 98, 87, 62, 75)\n",
        "\n",
        "add = test_scores + added_scores\n",
        "\n",
        "new_scores = (26, 49, 98, 87, 62, 75)\n",
        "\n",
        "\n",
        "\n",
        "sorted_scores = sorted(new_scores)\n",
        "\n",
        "print(\"Added Test Scores:\")\n",
        "\n",
        "print(add)\n",
        "\n",
        "print(\"Ascended Test Scores:\")\n",
        "for score in sorted_scores:\n",
        "    print(score)\n",
        "\n",
        "\n",
        "\n",
        "\n"
      ]
    },
    {
      "cell_type": "code",
      "source": [],
      "metadata": {
        "colab": {
          "base_uri": "https://localhost:8080/",
          "height": 140
        },
        "id": "Auu63Bx4NQQw",
        "outputId": "32cedefb-8d7c-44db-c145-5070a30eaad9"
      },
      "execution_count": 5,
      "outputs": [
        {
          "output_type": "error",
          "ename": "SyntaxError",
          "evalue": "ignored",
          "traceback": [
            "\u001b[0;36m  File \u001b[0;32m\"<ipython-input-5-54bceaabb0ad>\"\u001b[0;36m, line \u001b[0;32m2\u001b[0m\n\u001b[0;31m    using namespace std;\u001b[0m\n\u001b[0m          ^\u001b[0m\n\u001b[0;31mSyntaxError\u001b[0m\u001b[0;31m:\u001b[0m invalid syntax\n"
          ]
        }
      ]
    }
  ]
}