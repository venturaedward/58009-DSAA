{
  "nbformat": 4,
  "nbformat_minor": 0,
  "metadata": {
    "colab": {
      "provenance": [],
      "authorship_tag": "ABX9TyN5ZxbkPH64tv1JPx+2WsNe",
      "include_colab_link": true
    },
    "kernelspec": {
      "name": "python3",
      "display_name": "Python 3"
    },
    "language_info": {
      "name": "python"
    }
  },
  "cells": [
    {
      "cell_type": "markdown",
      "metadata": {
        "id": "view-in-github",
        "colab_type": "text"
      },
      "source": [
        "<a href=\"https://colab.research.google.com/github/venturaedward/58009-DSAA/blob/main/Queue.ipynb\" target=\"_parent\"><img src=\"https://colab.research.google.com/assets/colab-badge.svg\" alt=\"Open In Colab\"/></a>"
      ]
    },
    {
      "cell_type": "code",
      "execution_count": null,
      "metadata": {
        "colab": {
          "base_uri": "https://localhost:8080/"
        },
        "id": "CZhDdKUbfxmJ",
        "outputId": "c4ed589a-5eb0-43aa-9874-ead89d9ecfe9"
      },
      "outputs": [
        {
          "output_type": "stream",
          "name": "stdout",
          "text": [
            "['A', 'B', 'C']\n",
            "B\n",
            "A\n",
            "C\n",
            "[]\n"
          ]
        }
      ],
      "source": [
        "queue= []\n",
        "#enqueue items into the list\n",
        "\n",
        "\n",
        "queue.append(\"A\")\n",
        "queue.append(\"B\")\n",
        "queue.append(\"C\")\n",
        "print(queue)\n",
        "\n",
        "#dequeue items from the queue/list\n",
        "print(queue.pop(1))\n",
        "print(queue.pop(0))\n",
        "print(queue.pop())\n",
        "print(queue)"
      ]
    },
    {
      "cell_type": "code",
      "source": [
        "queue = []\n",
        "\n",
        "queue.append(\"breakfast\")\n",
        "queue.append(\"lunch\")\n",
        "queue.append(\"dinner\")\n",
        "queue.input(\"The meal you want to skip this day\")\n",
        "print(\"Meal plan for this day\")\n",
        "print(queue)\n",
        "\n",
        "print\n",
        "print(queue.pop(0))\n",
        "print(queue.pop(1))\n",
        "print(\"\\nThe meal you skip this day\")\n",
        "print(queue)"
      ],
      "metadata": {
        "colab": {
          "base_uri": "https://localhost:8080/"
        },
        "id": "9QpOYQEzpRfo",
        "outputId": "cf2585cc-f4d0-4e62-b987-3cd0fa819739"
      },
      "execution_count": null,
      "outputs": [
        {
          "output_type": "stream",
          "name": "stdout",
          "text": [
            "Meal plan for this day\n",
            "['breakfast', 'lunch', 'dinner']\n",
            "breakfast\n",
            "dinner\n",
            "\n",
            "The meal you skip this day\n",
            "['lunch']\n"
          ]
        }
      ]
    }
  ]
}