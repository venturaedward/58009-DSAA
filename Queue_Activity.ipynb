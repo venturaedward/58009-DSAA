{
  "nbformat": 4,
  "nbformat_minor": 0,
  "metadata": {
    "colab": {
      "provenance": [],
      "authorship_tag": "ABX9TyPDl/8maURnGbKagMvy4P2w",
      "include_colab_link": true
    },
    "kernelspec": {
      "name": "python3",
      "display_name": "Python 3"
    },
    "language_info": {
      "name": "python"
    }
  },
  "cells": [
    {
      "cell_type": "markdown",
      "metadata": {
        "id": "view-in-github",
        "colab_type": "text"
      },
      "source": [
        "<a href=\"https://colab.research.google.com/github/venturaedward/58009-DSAA/blob/main/Queue_Activity.ipynb\" target=\"_parent\"><img src=\"https://colab.research.google.com/assets/colab-badge.svg\" alt=\"Open In Colab\"/></a>"
      ]
    },
    {
      "cell_type": "code",
      "execution_count": 13,
      "metadata": {
        "colab": {
          "base_uri": "https://localhost:8080/"
        },
        "id": "lpO6LJD5vkBM",
        "outputId": "0d715ae5-2c33-4918-ee08-cabd1ec7eb2e"
      },
      "outputs": [
        {
          "output_type": "stream",
          "name": "stdout",
          "text": [
            "Meal plan for this day:\n",
            "['breakfast', 'lunch', 'dinner']\n",
            "\n",
            "Enter the meal you want to skip \n",
            "Breakfast\n",
            "Lunch\n",
            "Dinner: dinner\n",
            "\n",
            "You have skipped 'dinner' today.\n",
            "\n",
            "The meals you have left for the day:\n",
            "['breakfast', 'lunch']\n"
          ]
        }
      ],
      "source": [
        "queue = []\n",
        "\n",
        "queue.append(\"breakfast\")\n",
        "queue.append(\"lunch\")\n",
        "queue.append(\"dinner\")\n",
        "\n",
        "print(\"Meal plan for this day:\")\n",
        "print(queue)\n",
        "\n",
        "\n",
        "skip_meal = input(\"\\nEnter the meal you want to skip \\nBreakfast\\nLunch\\nDinner: \").lower()\n",
        "\n",
        "\n",
        "meal_index = -1\n",
        "for i, meal in enumerate(queue):\n",
        "    if meal == skip_meal:\n",
        "        meal_index = i\n",
        "        break\n",
        "\n",
        "if meal_index != -1:\n",
        "    skipped_meal = queue.pop(meal_index)\n",
        "    print(f\"\\nYou have skipped '{skipped_meal}' today.\")\n",
        "else:\n",
        "    print(\"Invalid input or meal not found in the plan.\")\n",
        "\n",
        "print(\"\\nThe meals you have left for the day:\")\n",
        "print(queue)"
      ]
    }
  ]
}