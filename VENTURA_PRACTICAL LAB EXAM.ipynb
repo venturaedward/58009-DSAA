{
  "nbformat": 4,
  "nbformat_minor": 0,
  "metadata": {
    "colab": {
      "provenance": [],
      "authorship_tag": "ABX9TyOveM/1kNCm/kzYG4XrCRmm",
      "include_colab_link": true
    },
    "kernelspec": {
      "name": "python3",
      "display_name": "Python 3"
    },
    "language_info": {
      "name": "python"
    }
  },
  "cells": [
    {
      "cell_type": "markdown",
      "metadata": {
        "id": "view-in-github",
        "colab_type": "text"
      },
      "source": [
        "<a href=\"https://colab.research.google.com/github/venturaedward/58009-DSAA/blob/main/VENTURA_PRACTICAL%20LAB%20EXAM.ipynb\" target=\"_parent\"><img src=\"https://colab.research.google.com/assets/colab-badge.svg\" alt=\"Open In Colab\"/></a>"
      ]
    },
    {
      "cell_type": "markdown",
      "source": [
        "PRACTICAL LAB EXAM"
      ],
      "metadata": {
        "id": "u1o6FCT_Ybkc"
      }
    },
    {
      "cell_type": "code",
      "source": [
        "total = 0\n",
        "test_scores = [26, 49, 98, 87, 62, 75]\n",
        "\n",
        "# Loop\n",
        "for score in test_scores:\n",
        "    if score % 2 != 0:\n",
        "        total += score\n",
        "\n",
        "\n",
        "print(\"Total sum of odd test scores: 49 + 87 + 75 =\", total)"
      ],
      "metadata": {
        "colab": {
          "base_uri": "https://localhost:8080/"
        },
        "id": "8jJvjur-YmYE",
        "outputId": "ee66b5e1-305e-48cd-c8ba-df4fa2ee1d26"
      },
      "execution_count": 11,
      "outputs": [
        {
          "output_type": "stream",
          "name": "stdout",
          "text": [
            "Total sum of odd test scores: 49 + 87 + 75 = 211\n"
          ]
        }
      ]
    }
  ]
}